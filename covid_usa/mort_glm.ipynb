{
 "cells": [
  {
   "cell_type": "markdown",
   "metadata": {},
   "source": [
    "Understanding all-cause mortality in the United States using Generalized Linear Models"
   ]
  },
  {
   "cell_type": "markdown",
   "metadata": {},
   "source": [
    "Here we use generalized linear modeling (GLM) to understand\n",
    "mortality in different demographic subgroups of the United States\n",
    "population, focusing on the way in which these mortality patterns vary over\n",
    "time.  The data are monthly death totals per age band and sex, obtained\n",
    "from the U.S. Centers for Disease Control (CDC),\n",
    "and cover 2007 to 2018."
   ]
  },
  {
   "cell_type": "markdown",
   "metadata": {},
   "source": [
    "See the `vital_stats_prep.py` script for more information about the\n",
    "data, and to see the code used to assemble the data analyzed here.\n",
    "You must run the `vital_stats_prep.py` script to create a data file\n",
    "before running this script."
   ]
  },
  {
   "cell_type": "markdown",
   "metadata": {},
   "source": [
    "These are the Python modules that we will be using:"
   ]
  },
  {
   "cell_type": "code",
   "execution_count": null,
   "metadata": {},
   "outputs": [],
   "source": [
    "import pandas as pd\n",
    "import numpy as np\n",
    "import statsmodels.api as sm\n",
    "import matplotlib.pyplot as plt\n",
    "from matplotlib.backends.backend_pdf import PdfPages"
   ]
  },
  {
   "cell_type": "code",
   "execution_count": null,
   "metadata": {},
   "outputs": [],
   "source": [
    "pdf = PdfPages(\"mort_glm.pdf\")"
   ]
  },
  {
   "cell_type": "markdown",
   "metadata": {},
   "source": [
    "This is the path to the data file on your system.  You must change\n",
    "this to point to the the pop_mort.csv data file on your system\n",
    "('pop_mort.csv' is created by running the vital_stats_prep.py\n",
    "script)."
   ]
  },
  {
   "cell_type": "code",
   "execution_count": null,
   "metadata": {},
   "outputs": [],
   "source": [
    "pa = \"/nfs/kshedden/cdc_mortality/final/pop_mort.csv\"\n",
    "df = pd.read_csv(pa)"
   ]
  },
  {
   "cell_type": "markdown",
   "metadata": {},
   "source": [
    "All of the GLM's we will be using here use the logarithm as their\n",
    "link function.  Therefore we will use log-transformed population as\n",
    "an offset, so that mortality is expressed relative to the population\n",
    "size."
   ]
  },
  {
   "cell_type": "code",
   "execution_count": null,
   "metadata": {},
   "outputs": [],
   "source": [
    "df.loc[:, \"offset\"] = np.log(df.Population)"
   ]
  },
  {
   "cell_type": "markdown",
   "metadata": {},
   "source": [
    "A very important property that follows from using a model with the\n",
    "log link function is that the regression effects are multiplicative.\n",
    "In our setting, this means that the overall mortality is represented\n",
    "as a product of terms attributable to specific risk factors.  For\n",
    "example, suppose that a model tells us that men have 1.05 times\n",
    "greater risk of dying than women.  This multiplicative factor\n",
    "adjusts the base rate of death defined by the other variables.  So\n",
    "if the death rate in January is 1.03 times greater than the death\n",
    "rate in June, we can combine this with the multiplicative factor for\n",
    "sex to obtain that the death rate for men in January is 1.05*1.03\n",
    "times the death rate for women in June.\n",
    "\n",
    "The above discussion applies to models with no interactions among\n",
    "the risk factors.  If there are interactions, then the mortality for\n",
    "men in January could be either greater than, or less than the\n",
    "product of the main effect terms for men and for January, depending\n",
    "on the sign and magnitude of the interaction term between sex and\n",
    "month.  Below we will start by considering models having no\n",
    "interactions, then we will consider models that have interactions."
   ]
  },
  {
   "cell_type": "markdown",
   "metadata": {},
   "source": [
    "## GLM and GEE estimation of models with no interactions"
   ]
  },
  {
   "cell_type": "markdown",
   "metadata": {},
   "source": [
    "We begin by fitting an initial Poisson GLM treating all counts as\n",
    "being independent."
   ]
  },
  {
   "cell_type": "code",
   "execution_count": null,
   "metadata": {},
   "outputs": [],
   "source": [
    "fml = \"Deaths ~ 0 + Age_group + Sex + C(Year) + C(Month)\"\n",
    "m1 = sm.GLM.from_formula(fml, family=sm.families.Poisson(), offset=df.offset, data=df)\n",
    "r1 = m1.fit(scale=\"X2\")"
   ]
  },
  {
   "cell_type": "markdown",
   "metadata": {},
   "source": [
    "To see the parameter estimates, you can type `r1.summary()`.\n",
    "However this model has quite a few parameters, so it is not easy to\n",
    "understand the meaning of the model by studying the parameter\n",
    "estimates.  Below we will demonstrate how to graph models like this\n",
    "in order to better convey what they mean."
   ]
  },
  {
   "cell_type": "markdown",
   "metadata": {},
   "source": [
    "GLMs treat the observations (rows of data) as being independent.  It\n",
    "is possible that circumstances such as weather and disease outbreaks\n",
    "may introduce different forms of correlation into the mortality\n",
    "counts.  We will not fully explore all the possibilities for\n",
    "correlation structure here, but we will demonstrate the use of\n",
    "generalized estimating equations (GEE) to fit a model in which\n",
    "counts within the same year/month are dependent.\n",
    "\n",
    "In a GEE, we specify a \"group variable\" such that observations in\n",
    "the same group may be dependent (observations in different groups\n",
    "must always be independent).  We also specify a \"working correlation\n",
    "structure\" that defines how the observations within a group may be\n",
    "statistically dependent.  This working correlation structure does\n",
    "not need to be correct in order for the results to be meaningful.\n",
    "\n",
    "Below we specify the group variable to be a single month of data\n",
    "(which would consist of all mortality counts for females and males\n",
    "of all different age groups within this month).  If a month has\n",
    "unusual mortality, e.g. because it falls during an especially bad\n",
    "flu season, then mortality for all age groups and both sexes may be\n",
    "impacted.  We specify the working correlation structure to be\n",
    "independent.  Due to the robustness properties of GEE discussed\n",
    "above, we can obtain meaningful results from a working independence\n",
    "model even though we suspect that the data are dependent."
   ]
  },
  {
   "cell_type": "code",
   "execution_count": null,
   "metadata": {},
   "outputs": [],
   "source": [
    "df[\"yearmonth\"] = 20*df.Year + df.Month\n",
    "m2 = sm.GEE.from_formula(fml, family=sm.families.Poisson(), groups=\"yearmonth\",\n",
    "          offset=df.offset, cov_struct=sm.cov_struct.Independence(), data=df)\n",
    "r2 = m2.fit(scale=\"X2\")"
   ]
  },
  {
   "cell_type": "markdown",
   "metadata": {},
   "source": [
    "The plot below shows how each parameter estimate compares when\n",
    "estimated using GLM and when using GEE (Generalized Estimating\n",
    "Equations).  As we can see, the parameter estimates are identical.\n",
    "This always happens when using the independence working correlation\n",
    "structure with GEE."
   ]
  },
  {
   "cell_type": "code",
   "execution_count": null,
   "metadata": {},
   "outputs": [],
   "source": [
    "plt.clf()\n",
    "plt.grid(True)\n",
    "plt.plot(r1.params.values, r2.params.values, 'o')\n",
    "plt.xlabel(\"GLM parameter estimates\")\n",
    "_ = plt.ylabel(\"GEE parameter estimates\")\n",
    "pdf.savefig()"
   ]
  },
  {
   "cell_type": "markdown",
   "metadata": {},
   "source": [
    "The plot below shows the standard errors when using GLM and when\n",
    "using GEE.  The relationship between standard errors in GLM and GEE\n",
    "can be complex.  In this case, many of the standard errors are\n",
    "larger for the GLM estimation compared to the GEE estimation."
   ]
  },
  {
   "cell_type": "code",
   "execution_count": null,
   "metadata": {},
   "outputs": [],
   "source": [
    "plt.clf()\n",
    "plt.grid(True)\n",
    "plt.plot(r1.bse.values, r2.bse.values, 'o')\n",
    "ma = max(r1.bse.max(), r2.bse.max())\n",
    "plt.plot([0, ma], [0, ma], '-', color='purple')\n",
    "plt.xlabel(\"GLM standard error\")\n",
    "_ = plt.ylabel(\"GEE month-clustered standard error\")\n",
    "pdf.savefig()"
   ]
  },
  {
   "cell_type": "markdown",
   "metadata": {},
   "source": [
    "As noted above, dependence structure in these data may take on\n",
    "several forms.  One possibility, explored above, is that values\n",
    "observed in the same calendar month are correlated between demographic bands.  Another\n",
    "possibility is that there is temporal correlation within each age\n",
    "band.  It is difficult to account for both forms fo correlation at the same\n",
    "time.  Below we use a stationary covariance model to capture serial\n",
    "dependence of the mortality counts within each age band."
   ]
  },
  {
   "cell_type": "code",
   "execution_count": null,
   "metadata": {},
   "outputs": [],
   "source": [
    "m3 = sm.GEE.from_formula(fml, family=sm.families.Poisson(), groups=\"Age_group\",\n",
    "          offset=df.offset, cov_struct=sm.cov_struct.Stationary(max_lag=1, grid=True),\n",
    "          data=df)\n",
    "r3 = m3.fit(maxiter=2,scale=\"X2\")"
   ]
  },
  {
   "cell_type": "code",
   "execution_count": null,
   "metadata": {},
   "outputs": [],
   "source": [
    "print(\"Stationary covariance structure for: %s\\n\" % fml)\n",
    "print(m3.cov_struct.summary())"
   ]
  },
  {
   "cell_type": "markdown",
   "metadata": {},
   "source": [
    "Below we show how the standard errors compare when using the\n",
    "stationary GEE estimates compared to when using the independence\n",
    "working correlation structure."
   ]
  },
  {
   "cell_type": "code",
   "execution_count": null,
   "metadata": {},
   "outputs": [],
   "source": [
    "plt.clf()\n",
    "plt.grid(True)\n",
    "plt.plot(r1.bse.values, r3.bse.values, 'o')\n",
    "ma = max(r1.bse.max(), r3.bse.max())\n",
    "plt.plot([0, ma], [0, ma], '-', color='purple')\n",
    "plt.xlabel(\"GLM standard error\")\n",
    "_ = plt.ylabel(\"GEE age-clustered standard error\")\n",
    "pdf.savefig()"
   ]
  },
  {
   "cell_type": "markdown",
   "metadata": {},
   "source": [
    "A further complication is that the covariance structure depends on\n",
    "the mean structure, and vice versa.  Here, we are comparing two\n",
    "covariance structures (clustering by months, and clustering by age\n",
    "bands) using a simple additive mean structure.  But below we will\n",
    "find that the mean structure is likely not additive.  In a thorough\n",
    "analysis, we would re-assess the covariance structure after making\n",
    "further refinements to the mean structure."
   ]
  },
  {
   "cell_type": "markdown",
   "metadata": {},
   "source": [
    "## Models with interactions"
   ]
  },
  {
   "cell_type": "markdown",
   "metadata": {},
   "source": [
    "Next we fit a series of models in which we consider pairwise\n",
    "interactions between different types of variables.  As above, the\n",
    "models have many parameters, so it is not very informative to view\n",
    "the table of estimates.  Later we will use graphical methods to\n",
    "better understand the meaning of these models.  In each case below,\n",
    "we use a score test to assess the evidence that the moderating\n",
    "relationship (i.e. the interaction) is real.  We begin by\n",
    "considering whether age-specific mortality rates vary by sex.  The\n",
    "score test results indicate that there is strong evidence for this."
   ]
  },
  {
   "cell_type": "code",
   "execution_count": null,
   "metadata": {},
   "outputs": [],
   "source": [
    "fml4 = \"Deaths ~ Age_group * Sex + C(Year) + C(Month)\"\n",
    "m4 = sm.GEE.from_formula(fml4, family=sm.families.Poisson(), groups=\"yearmonth\",\n",
    "          offset=df.offset, cov_struct=sm.cov_struct.Independence(), data=df)\n",
    "r4 = m4.fit(maxiter=2, scale=\"X2\")"
   ]
  },
  {
   "cell_type": "code",
   "execution_count": null,
   "metadata": {},
   "outputs": [],
   "source": [
    "print(\"\\nCompare %s to\\n        %s:\" % (fml4, fml))\n",
    "print(m4.compare_score_test(r2))"
   ]
  },
  {
   "cell_type": "markdown",
   "metadata": {},
   "source": [
    "Next we assess whether the seasonality patterns vary by sex.  There\n",
    "is strong evidence for this moderation as well."
   ]
  },
  {
   "cell_type": "code",
   "execution_count": null,
   "metadata": {},
   "outputs": [],
   "source": [
    "fml5 = \"Deaths ~ (Age_group + C(Month)) * Sex + C(Year)\"\n",
    "m5 = sm.GEE.from_formula(fml5, family=sm.families.Poisson(), groups=\"yearmonth\",\n",
    "          offset=df.offset, cov_struct=sm.cov_struct.Independence(), data=df)\n",
    "r5 = m5.fit(scale=\"X2\")"
   ]
  },
  {
   "cell_type": "code",
   "execution_count": null,
   "metadata": {},
   "outputs": [],
   "source": [
    "print(\"\\nCompare %s to\\n        %s:\" % (fml5, fml4))\n",
    "print(m5.compare_score_test(r4))"
   ]
  },
  {
   "cell_type": "markdown",
   "metadata": {},
   "source": [
    "There is also strong evidence that the long term trend varies by\n",
    "sex."
   ]
  },
  {
   "cell_type": "code",
   "execution_count": null,
   "metadata": {},
   "outputs": [],
   "source": [
    "fml6 = \"Deaths ~ (Age_group + C(Year) + C(Month)) * Sex\"\n",
    "m6 = sm.GEE.from_formula(fml6, family=sm.families.Poisson(), groups=\"yearmonth\",\n",
    "          offset=df.offset, cov_struct=sm.cov_struct.Independence(), data=df)\n",
    "r6 = m6.fit(scale=\"X2\")"
   ]
  },
  {
   "cell_type": "code",
   "execution_count": null,
   "metadata": {},
   "outputs": [],
   "source": [
    "print(\"\\nCompare %s to\\n        %s:\" % (fml6, fml5))\n",
    "print(m6.compare_score_test(r5))"
   ]
  },
  {
   "cell_type": "markdown",
   "metadata": {},
   "source": [
    "Below we check whether the sex-specific seasonality patterns vary by\n",
    "year.  There isn't much evidence for this form of moderation."
   ]
  },
  {
   "cell_type": "code",
   "execution_count": null,
   "metadata": {},
   "outputs": [],
   "source": [
    "fml7 = \"Deaths ~ (Age_group + C(Year) * C(Month)) * Sex\"\n",
    "m7 = sm.GEE.from_formula(fml7, family=sm.families.Poisson(), groups=\"yearmonth\",\n",
    "          offset=df.offset, cov_struct=sm.cov_struct.Independence(), data=df)\n",
    "r7 = m7.fit()"
   ]
  },
  {
   "cell_type": "code",
   "execution_count": null,
   "metadata": {},
   "outputs": [],
   "source": [
    "print(\"\\nCompare %s to\\n        %s:\" % (fml7, fml6))\n",
    "print(m7.compare_score_test(r6))\n",
    "print(\"\\n\")"
   ]
  },
  {
   "cell_type": "markdown",
   "metadata": {},
   "source": [
    "Visualization of model structures"
   ]
  },
  {
   "cell_type": "markdown",
   "metadata": {},
   "source": [
    "Now that we have used hypothesis testing to assess which moderating\n",
    "effects might be real, we can look at the effect sizes to understand\n",
    "the patterns of moderation in more detail.  First, we plot the age\n",
    "group effects by sex.  The values plotted on the vertical axis can\n",
    "be differenced to obtain log risk ratios.  These results hold for\n",
    "all months and all years."
   ]
  },
  {
   "cell_type": "code",
   "execution_count": null,
   "metadata": {},
   "outputs": [],
   "source": [
    "# These are the ages that are plotted along the horizontal axis\n",
    "ages = [\"%02d_%02d\" % (a, a+4) for a in range(5, 90, 5)]\n",
    "an = [a+2.5 for a in range(0, 90, 5)]\n",
    "ages[-1] = \"85_99\""
   ]
  },
  {
   "cell_type": "code",
   "execution_count": null,
   "metadata": {},
   "outputs": [],
   "source": [
    "# These are the parameters that we will use to obtain log risk ratios.\n",
    "pa = r6.params.to_dict()"
   ]
  },
  {
   "cell_type": "code",
   "execution_count": null,
   "metadata": {},
   "outputs": [],
   "source": [
    "# These are the contributions of age and sex to the model.\n",
    "xf = [0] + [pa['Age_group[T.%s]' % a] for a in ages]\n",
    "xm = [0] + [pa['Age_group[T.%s]:Sex[T.Male]' % a] for a in ages]\n",
    "xf = np.asarray(xf)\n",
    "xm = np.asarray(xm)\n",
    "xm += pa['Sex[T.Male]']"
   ]
  },
  {
   "cell_type": "code",
   "execution_count": null,
   "metadata": {},
   "outputs": [],
   "source": [
    "# Plot the age and sex effects\n",
    "plt.clf()\n",
    "plt.axes([0.1, 0.1, 0.7, 0.8])\n",
    "plt.grid(True)\n",
    "plt.plot(an, xf, label=\"Female\")\n",
    "plt.plot(an, xf + xm, label=\"Male\")\n",
    "plt.xlabel(\"Age\")\n",
    "plt.ylabel(\"Log risk ratio for deaths\")\n",
    "ha, lb = plt.gca().get_legend_handles_labels()\n",
    "leg = plt.figlegend(ha, lb, \"center right\")\n",
    "leg.draw_frame(False)\n",
    "pdf.savefig()"
   ]
  },
  {
   "cell_type": "markdown",
   "metadata": {},
   "source": [
    "Next we plot the male/female log risk ratio by age group.  This\n",
    "shows how much more likely a male is to die than a female in each\n",
    "month.  This effect holds for all age groups in all years."
   ]
  },
  {
   "cell_type": "code",
   "execution_count": null,
   "metadata": {},
   "outputs": [],
   "source": [
    "plt.clf()\n",
    "plt.grid(True)\n",
    "plt.plot(an, xm, label=\"Male\")\n",
    "plt.xlabel(\"Age\")\n",
    "plt.ylabel(\"Male/female log risk ratio\")\n",
    "pdf.savefig()"
   ]
  },
  {
   "cell_type": "markdown",
   "metadata": {},
   "source": [
    "Next we consider the mortality risk by month for females and males.\n",
    "This reflects a seasonal pattern of mortality in which mortality is\n",
    "lowest in the summer and highest in the winter.  To obtain a risk\n",
    "ratio between any two groups, subtract the log risk values in the\n",
    "plot below and exponentiate this difference."
   ]
  },
  {
   "cell_type": "code",
   "execution_count": null,
   "metadata": {},
   "outputs": [],
   "source": [
    "months = range(1, 13)\n",
    "xf = [0] + [pa['C(Month)[T.%d]' % m] for m in range(2, 13)]\n",
    "xm = [0] + [pa['C(Month)[T.%d]:Sex[T.Male]' % m] for m in range(2, 13)]\n",
    "xf = np.asarray(xf)\n",
    "xm = np.asarray(xm)\n",
    "xm += pa['Sex[T.Male]']"
   ]
  },
  {
   "cell_type": "code",
   "execution_count": null,
   "metadata": {},
   "outputs": [],
   "source": [
    "plt.clf()\n",
    "plt.grid(True)\n",
    "plt.plot(months, xf, label=\"Female\")\n",
    "plt.plot(months, xf + xm, label=\"Male\")\n",
    "plt.xlabel(\"Month\")\n",
    "plt.ylabel(\"Log risk ratio for deaths\")\n",
    "ha, lb = plt.gca().get_legend_handles_labels()\n",
    "leg = plt.figlegend(ha, lb)\n",
    "leg.draw_frame(False)\n",
    "pdf.savefig()"
   ]
  },
  {
   "cell_type": "markdown",
   "metadata": {},
   "source": [
    "The score test conducted above indicates that the seasonal pattern\n",
    "of mortality differs between women and men.  From the plot above,\n",
    "the detailed pattern of this difference is not very clear.  We can\n",
    "get more insight into this by plotting the male/female log risk\n",
    "ratio by month.  This plot makes it more clear that mortality for\n",
    "men is flatter through the year, while mortality for women has a\n",
    "more pronounced drop during the summer."
   ]
  },
  {
   "cell_type": "code",
   "execution_count": null,
   "metadata": {},
   "outputs": [],
   "source": [
    "plt.clf()\n",
    "plt.grid(True)\n",
    "plt.plot(months, xm, label=\"Male\")\n",
    "plt.xlabel(\"Month\")\n",
    "plt.ylabel(\"Male/female log risk ratio\")\n",
    "pdf.savefig()"
   ]
  },
  {
   "cell_type": "markdown",
   "metadata": {},
   "source": [
    "Next we consider any \"long term trend\" in the data, that is,\n",
    "patterns of mortality variation that evolve continuously over\n",
    "multiple years.  To assess this, we first plot the female and male\n",
    "log risk ratio for death by year.  To obtain a risk ratio, take the\n",
    "difference between any two points on these curves and exponentiate\n",
    "it.  We see that mortality has generally declined for both sexes\n",
    "during the duration covered by the data.  Mortality for males\n",
    "increased slightly in 2014 and 2015, perhaps due to the opioid\n",
    "epidemic."
   ]
  },
  {
   "cell_type": "code",
   "execution_count": null,
   "metadata": {},
   "outputs": [],
   "source": [
    "# These are the contributions of age and sex to the model.\n",
    "years = range(2008, 2019)\n",
    "xf = [0] + [pa['C(Year)[T.%4d]' % y] for y in years]\n",
    "xm = [0] + [pa['C(Year)[T.%4d]:Sex[T.Male]' % y] for y in years]\n",
    "xf = np.asarray(xf)\n",
    "xm = np.asarray(xm)\n",
    "xm += pa['Sex[T.Male]']"
   ]
  },
  {
   "cell_type": "code",
   "execution_count": null,
   "metadata": {},
   "outputs": [],
   "source": [
    "plt.clf()\n",
    "plt.grid(True)\n",
    "years = [2007] + list(years)\n",
    "plt.plot(years, xf, label=\"Female\")\n",
    "plt.plot(years, xf + xm, label=\"Male\")\n",
    "plt.xlabel(\"Year\")\n",
    "plt.ylabel(\"Log risk ratio for deaths\")\n",
    "ha, lb = plt.gca().get_legend_handles_labels()\n",
    "leg = plt.figlegend(ha, lb)\n",
    "leg.draw_frame(False)\n",
    "pdf.savefig()"
   ]
  },
  {
   "cell_type": "markdown",
   "metadata": {},
   "source": [
    "Below we plot the male/female log risk ratio by year Between 2011\n",
    "and 2013, male mortality dropped faster than female mortality, so\n",
    "the gap between female and mortality was smallest during that\n",
    "period.  Since 2013, the gap has grown again."
   ]
  },
  {
   "cell_type": "code",
   "execution_count": null,
   "metadata": {},
   "outputs": [],
   "source": [
    "plt.clf()\n",
    "plt.grid(True)\n",
    "plt.plot(years, xm, label=\"Male\")\n",
    "plt.xlabel(\"Year\")\n",
    "_ = plt.ylabel(\"Male/female log risk ratio\")\n",
    "pdf.savefig()"
   ]
  },
  {
   "cell_type": "markdown",
   "metadata": {},
   "source": [
    "## Residual analysis"
   ]
  },
  {
   "cell_type": "markdown",
   "metadata": {},
   "source": [
    "The analysis above is based on a Poisson quasi-likelihood approach.\n",
    "This is a regression framework in which the conditional mean and the\n",
    "covariates are related through the log link function, and the\n",
    "conditional variance is required to be a constant multiple of the\n",
    "conditional mean.  This constant multiple is given by the scale\n",
    "parameter as shown below"
   ]
  },
  {
   "cell_type": "code",
   "execution_count": null,
   "metadata": {},
   "outputs": [],
   "source": [
    "r6.scale"
   ]
  },
  {
   "cell_type": "markdown",
   "metadata": {},
   "source": [
    "To assess whether the variance of the data is compatible with the\n",
    "quasi-Poisson variance structure, we can take a look at the\n",
    "residuals.  We bin the residuals according to the value of the\n",
    "estimated conditional mean, then calculate the mean and variance\n",
    "within each bin.  We then plot the log conditional variance against\n",
    "the log conditional mean (we use the log to make the pattern easier\n",
    "to see).  As long as this log/log plot has a slope close to 1, the\n",
    "conditional variance and conditional mean are approximately\n",
    "proportional."
   ]
  },
  {
   "cell_type": "code",
   "execution_count": null,
   "metadata": {},
   "outputs": [],
   "source": [
    "qt = pd.qcut(r6.fittedvalues, 20)\n",
    "qt.name = \"group\"\n",
    "qt = pd.DataFrame(qt)\n",
    "qt[\"resid\"] = r6.resid_pearson / np.sqrt(r6.scale)\n",
    "qt[\"fittedvalues\"] = r6.fittedvalues\n",
    "qa = qt.groupby(\"group\").agg({\"fittedvalues\": np.mean, \"resid\": np.var})"
   ]
  },
  {
   "cell_type": "code",
   "execution_count": null,
   "metadata": {},
   "outputs": [],
   "source": [
    "plt.clf()\n",
    "plt.grid(True)\n",
    "plt.plot(np.log(qa.fittedvalues.values), np.log(qa.resid.values), 'o')\n",
    "plt.xlabel(\"Log conditional mean\")\n",
    "plt.ylabel(\"Log conditional variance\")\n",
    "pdf.savefig()"
   ]
  },
  {
   "cell_type": "code",
   "execution_count": null,
   "metadata": {},
   "outputs": [],
   "source": [
    "pdf.close()"
   ]
  }
 ],
 "metadata": {
  "jupytext": {
   "cell_metadata_filter": "-all",
   "main_language": "python",
   "notebook_metadata_filter": "-all"
  },
  "kernelspec": {
   "display_name": "Python 3",
   "language": "python",
   "name": "python3"
  },
  "language_info": {
   "codemirror_mode": {
    "name": "ipython",
    "version": 3
   },
   "file_extension": ".py",
   "mimetype": "text/x-python",
   "name": "python",
   "nbconvert_exporter": "python",
   "pygments_lexer": "ipython3",
   "version": "3.8.3"
  }
 },
 "nbformat": 4,
 "nbformat_minor": 4
}
